{
 "cells": [
  {
   "cell_type": "code",
   "execution_count": 2,
   "source": [
    "import pandas as pd\r\n",
    "import numpy as np\r\n",
    "import matplotlib.pyplot as plt\r\n",
    "\r\n",
    "import statsmodels.stats.api as sms\r\n",
    "\r\n",
    "import scipy.stats as stats\r\n",
    "import math\r\n",
    "import seaborn as sns\r\n",
    "\r\n",
    "plt.rcParams['axes.facecolor'] = 'white'"
   ],
   "outputs": [],
   "metadata": {}
  },
  {
   "cell_type": "markdown",
   "source": [
    "# Data Exploration"
   ],
   "metadata": {}
  },
  {
   "cell_type": "markdown",
   "source": [
    "Read our data"
   ],
   "metadata": {}
  },
  {
   "cell_type": "code",
   "execution_count": 3,
   "source": [
    "data= pd.read_csv('data\\AdSmartABdata.csv')\r\n",
    "data.sample(5)"
   ],
   "outputs": [
    {
     "output_type": "execute_result",
     "data": {
      "text/plain": [
       "                                auction_id experiment        date  hour  \\\n",
       "5112  a2a8bc7e-f4e0-4302-8cdf-7b4f5ba8f723    control  2020-07-04     1   \n",
       "7989  fc902c99-7189-4950-8eee-194a23bd0e0c    control  2020-07-05     7   \n",
       "3383  6d46a7c0-27d9-4156-bb04-64dd087f6a8a    exposed  2020-07-06    10   \n",
       "5625  b214b5f6-2ba0-4e39-8059-d15be0d78e5f    control  2020-07-08    20   \n",
       "5353  a94bb009-0425-42fb-bd53-c56ff7b79405    control  2020-07-08    15   \n",
       "\n",
       "              device_make  platform_os        browser  yes  no  \n",
       "5112              VKY-L09            6       Facebook    0   0  \n",
       "7989   Generic Smartphone            6  Chrome Mobile    0   0  \n",
       "3383     Samsung SM-N950F            6       Facebook    1   0  \n",
       "5625   Generic Smartphone            6  Chrome Mobile    0   0  \n",
       "5353  Nokia undefined$2$3            6  Chrome Mobile    0   0  "
      ],
      "text/html": [
       "<div>\n",
       "<style scoped>\n",
       "    .dataframe tbody tr th:only-of-type {\n",
       "        vertical-align: middle;\n",
       "    }\n",
       "\n",
       "    .dataframe tbody tr th {\n",
       "        vertical-align: top;\n",
       "    }\n",
       "\n",
       "    .dataframe thead th {\n",
       "        text-align: right;\n",
       "    }\n",
       "</style>\n",
       "<table border=\"1\" class=\"dataframe\">\n",
       "  <thead>\n",
       "    <tr style=\"text-align: right;\">\n",
       "      <th></th>\n",
       "      <th>auction_id</th>\n",
       "      <th>experiment</th>\n",
       "      <th>date</th>\n",
       "      <th>hour</th>\n",
       "      <th>device_make</th>\n",
       "      <th>platform_os</th>\n",
       "      <th>browser</th>\n",
       "      <th>yes</th>\n",
       "      <th>no</th>\n",
       "    </tr>\n",
       "  </thead>\n",
       "  <tbody>\n",
       "    <tr>\n",
       "      <th>5112</th>\n",
       "      <td>a2a8bc7e-f4e0-4302-8cdf-7b4f5ba8f723</td>\n",
       "      <td>control</td>\n",
       "      <td>2020-07-04</td>\n",
       "      <td>1</td>\n",
       "      <td>VKY-L09</td>\n",
       "      <td>6</td>\n",
       "      <td>Facebook</td>\n",
       "      <td>0</td>\n",
       "      <td>0</td>\n",
       "    </tr>\n",
       "    <tr>\n",
       "      <th>7989</th>\n",
       "      <td>fc902c99-7189-4950-8eee-194a23bd0e0c</td>\n",
       "      <td>control</td>\n",
       "      <td>2020-07-05</td>\n",
       "      <td>7</td>\n",
       "      <td>Generic Smartphone</td>\n",
       "      <td>6</td>\n",
       "      <td>Chrome Mobile</td>\n",
       "      <td>0</td>\n",
       "      <td>0</td>\n",
       "    </tr>\n",
       "    <tr>\n",
       "      <th>3383</th>\n",
       "      <td>6d46a7c0-27d9-4156-bb04-64dd087f6a8a</td>\n",
       "      <td>exposed</td>\n",
       "      <td>2020-07-06</td>\n",
       "      <td>10</td>\n",
       "      <td>Samsung SM-N950F</td>\n",
       "      <td>6</td>\n",
       "      <td>Facebook</td>\n",
       "      <td>1</td>\n",
       "      <td>0</td>\n",
       "    </tr>\n",
       "    <tr>\n",
       "      <th>5625</th>\n",
       "      <td>b214b5f6-2ba0-4e39-8059-d15be0d78e5f</td>\n",
       "      <td>control</td>\n",
       "      <td>2020-07-08</td>\n",
       "      <td>20</td>\n",
       "      <td>Generic Smartphone</td>\n",
       "      <td>6</td>\n",
       "      <td>Chrome Mobile</td>\n",
       "      <td>0</td>\n",
       "      <td>0</td>\n",
       "    </tr>\n",
       "    <tr>\n",
       "      <th>5353</th>\n",
       "      <td>a94bb009-0425-42fb-bd53-c56ff7b79405</td>\n",
       "      <td>control</td>\n",
       "      <td>2020-07-08</td>\n",
       "      <td>15</td>\n",
       "      <td>Nokia undefined$2$3</td>\n",
       "      <td>6</td>\n",
       "      <td>Chrome Mobile</td>\n",
       "      <td>0</td>\n",
       "      <td>0</td>\n",
       "    </tr>\n",
       "  </tbody>\n",
       "</table>\n",
       "</div>"
      ]
     },
     "metadata": {},
     "execution_count": 3
    }
   ],
   "metadata": {}
  },
  {
   "cell_type": "markdown",
   "source": [
    "See the number of data points and the number of features"
   ],
   "metadata": {}
  },
  {
   "cell_type": "code",
   "execution_count": 4,
   "source": [
    "print(f\" There are {data.shape[0]} rows and {data.shape[1]} columns\")\r\n"
   ],
   "outputs": [
    {
     "output_type": "stream",
     "name": "stdout",
     "text": [
      " There are 8077 rows and 9 columns\n"
     ]
    }
   ],
   "metadata": {}
  },
  {
   "cell_type": "markdown",
   "source": [
    "See the number of null values to see if the data needs cleaning"
   ],
   "metadata": {}
  },
  {
   "cell_type": "code",
   "execution_count": 5,
   "source": [
    "data.isna().sum()"
   ],
   "outputs": [
    {
     "output_type": "execute_result",
     "data": {
      "text/plain": [
       "auction_id     0\n",
       "experiment     0\n",
       "date           0\n",
       "hour           0\n",
       "device_make    0\n",
       "platform_os    0\n",
       "browser        0\n",
       "yes            0\n",
       "no             0\n",
       "dtype: int64"
      ]
     },
     "metadata": {},
     "execution_count": 5
    }
   ],
   "metadata": {}
  },
  {
   "cell_type": "markdown",
   "source": [
    "Unique values for each column"
   ],
   "metadata": {}
  },
  {
   "cell_type": "code",
   "execution_count": 6,
   "source": [
    "\r\n",
    "data.nunique()"
   ],
   "outputs": [
    {
     "output_type": "execute_result",
     "data": {
      "text/plain": [
       "auction_id     8077\n",
       "experiment        2\n",
       "date              8\n",
       "hour             24\n",
       "device_make     270\n",
       "platform_os       3\n",
       "browser          15\n",
       "yes               2\n",
       "no                2\n",
       "dtype: int64"
      ]
     },
     "metadata": {},
     "execution_count": 6
    }
   ],
   "metadata": {}
  },
  {
   "cell_type": "markdown",
   "source": [
    "See the number of experimental and control data points"
   ],
   "metadata": {}
  },
  {
   "cell_type": "code",
   "execution_count": 7,
   "source": [
    "data.groupby(\"experiment\")[\"experiment\"].count()"
   ],
   "outputs": [
    {
     "output_type": "execute_result",
     "data": {
      "text/plain": [
       "experiment\n",
       "control    4071\n",
       "exposed    4006\n",
       "Name: experiment, dtype: int64"
      ]
     },
     "metadata": {},
     "execution_count": 7
    }
   ],
   "metadata": {}
  },
  {
   "cell_type": "markdown",
   "source": [
    "See the number of people who actually responded to the survey"
   ],
   "metadata": {}
  },
  {
   "cell_type": "code",
   "execution_count": 8,
   "source": [
    "responded=data.loc[(data[\"yes\"]==1) | (data[\"no\"]==1)]\r\n",
    "print(f\" There are number of respondents is {responded.shape[0]}\")"
   ],
   "outputs": [
    {
     "output_type": "stream",
     "name": "stdout",
     "text": [
      " There are number of respondents is 1243\n"
     ]
    }
   ],
   "metadata": {}
  },
  {
   "cell_type": "markdown",
   "source": [
    "See the number of unique users who responded. We can see that every respondent is unique so we don't have to remove any datapoint"
   ],
   "metadata": {}
  },
  {
   "cell_type": "code",
   "execution_count": 9,
   "source": [
    "responded[\"auction_id\"].nunique()"
   ],
   "outputs": [
    {
     "output_type": "execute_result",
     "data": {
      "text/plain": [
       "1243"
      ]
     },
     "metadata": {},
     "execution_count": 9
    }
   ],
   "metadata": {}
  },
  {
   "cell_type": "markdown",
   "source": [
    "See the unique values for every colum"
   ],
   "metadata": {}
  },
  {
   "cell_type": "code",
   "execution_count": 10,
   "source": [
    "responded.nunique()"
   ],
   "outputs": [
    {
     "output_type": "execute_result",
     "data": {
      "text/plain": [
       "auction_id     1243\n",
       "experiment        2\n",
       "date              8\n",
       "hour             24\n",
       "device_make     115\n",
       "platform_os       2\n",
       "browser           8\n",
       "yes               2\n",
       "no                2\n",
       "dtype: int64"
      ]
     },
     "metadata": {},
     "execution_count": 10
    }
   ],
   "metadata": {}
  },
  {
   "cell_type": "markdown",
   "source": [
    "See data types"
   ],
   "metadata": {}
  },
  {
   "cell_type": "code",
   "execution_count": 11,
   "source": [
    "responded.dtypes"
   ],
   "outputs": [
    {
     "output_type": "execute_result",
     "data": {
      "text/plain": [
       "auction_id     object\n",
       "experiment     object\n",
       "date           object\n",
       "hour            int64\n",
       "device_make    object\n",
       "platform_os     int64\n",
       "browser        object\n",
       "yes             int64\n",
       "no              int64\n",
       "dtype: object"
      ]
     },
     "metadata": {},
     "execution_count": 11
    }
   ],
   "metadata": {}
  },
  {
   "cell_type": "markdown",
   "source": [
    "See the groups used in our test"
   ],
   "metadata": {}
  },
  {
   "cell_type": "code",
   "execution_count": 12,
   "source": [
    "responded[\"experiment\"].unique()"
   ],
   "outputs": [
    {
     "output_type": "execute_result",
     "data": {
      "text/plain": [
       "array(['exposed', 'control'], dtype=object)"
      ]
     },
     "metadata": {},
     "execution_count": 12
    }
   ],
   "metadata": {}
  },
  {
   "cell_type": "code",
   "execution_count": 13,
   "source": [
    "#Function to draw bar plots of the exposed and control\r\n",
    "def bar_plot(data,column):\r\n",
    "    fig, axs = plt.subplots(1,2,figsize=(20,5))\r\n",
    "    fig.suptitle(f'{column} Column Distribution')\r\n",
    "    sns.countplot(x=column, data=data[data[\"experiment\"]==\"exposed\"],ax=axs[0]).set_title('Experiment Group')\r\n",
    "    \r\n",
    "    sns.countplot(x=column, data=data[data[\"experiment\"]==\"control\"],ax=axs[1]).set_title('Control Group')\r\n",
    "\r\n",
    "bar_plot(responded,\"yes\")"
   ],
   "outputs": [
    {
     "output_type": "display_data",
     "data": {
      "text/plain": [
       "<Figure size 1440x360 with 2 Axes>"
      ],
      "image/png": "[encoded data removed]"
     },
     "metadata": {
      "needs_background": "light"
     }
    }
   ],
   "metadata": {}
  },
  {
   "cell_type": "markdown",
   "source": [
    "Platform distribution across the two groups. There is a slighly higher proportion of users using platform 5"
   ],
   "metadata": {}
  },
  {
   "cell_type": "code",
   "execution_count": 14,
   "source": [
    "\r\n",
    "bar_plot(responded,\"platform_os\")"
   ],
   "outputs": [
    {
     "output_type": "display_data",
     "data": {
      "text/plain": [
       "<Figure size 1440x360 with 2 Axes>"
      ],
      "image/png": "[encoded data removed]"
     },
     "metadata": {
      "needs_background": "light"
     }
    }
   ],
   "metadata": {}
  },
  {
   "cell_type": "markdown",
   "source": [
    "The survey respnse date distributions. We can see that the distributions are more even in our experiment group than in our control group. The control group has a spike of responses on 07/03/2020"
   ],
   "metadata": {}
  },
  {
   "cell_type": "code",
   "execution_count": 15,
   "source": [
    "bar_plot(responded,\"date\")"
   ],
   "outputs": [
    {
     "output_type": "display_data",
     "data": {
      "text/plain": [
       "<Figure size 1440x360 with 2 Axes>"
      ],
      "image/png": "[encoded data removed]"
     },
     "metadata": {
      "needs_background": "light"
     }
    }
   ],
   "metadata": {}
  },
  {
   "cell_type": "markdown",
   "source": [
    "The distribution of operating systems between the experimental and control groups. "
   ],
   "metadata": {}
  },
  {
   "cell_type": "code",
   "execution_count": 16,
   "source": [
    "bar_plot(responded,\"browser\")"
   ],
   "outputs": [
    {
     "output_type": "display_data",
     "data": {
      "text/plain": [
       "<Figure size 1440x360 with 2 Axes>"
      ],
      "image/png": "[encoded data removed]"
     },
     "metadata": {
      "needs_background": "light"
     }
    }
   ],
   "metadata": {}
  },
  {
   "cell_type": "markdown",
   "source": [
    "The distribution of response hours between the experimental and control groups. We see that the response on the experiment group is different ot the distribution of the control group. The control group has a concentration of responses on 3 PM. This uptick accounts for a large percentage of our responses."
   ],
   "metadata": {}
  },
  {
   "cell_type": "code",
   "execution_count": 17,
   "source": [
    "bar_plot(responded,\"hour\")"
   ],
   "outputs": [
    {
     "output_type": "display_data",
     "data": {
      "text/plain": [
       "<Figure size 1440x360 with 2 Axes>"
      ],
      "image/png": "[encoded data removed]"
     },
     "metadata": {
      "needs_background": "light"
     }
    }
   ],
   "metadata": {}
  },
  {
   "cell_type": "markdown",
   "source": [
    "The number of exposed(experiment ) or control group proportion in the responses. We have slightly more exposed group responses than control ones"
   ],
   "metadata": {}
  },
  {
   "cell_type": "code",
   "execution_count": 18,
   "source": [
    "responded.groupby(responded.experiment).size().plot(kind='pie').set_facecolor(\"white\")"
   ],
   "outputs": [
    {
     "output_type": "display_data",
     "data": {
      "text/plain": [
       "<Figure size 432x288 with 1 Axes>"
      ],
      "image/png": "[encoded data removed]"
     },
     "metadata": {}
    }
   ],
   "metadata": {}
  },
  {
   "cell_type": "markdown",
   "source": [
    "Correlation analysis of the different columns. Only yes and no have any correlation because they represent the opposites of the Bernoulli process that generates them"
   ],
   "metadata": {}
  },
  {
   "cell_type": "code",
   "execution_count": 19,
   "source": [
    "\r\n",
    "plt.figure(figsize=(16, 5))\r\n",
    "sns.heatmap(responded.corr(method='pearson'), cmap=\"YlGnBu\", annot=True,linewidths=.5)"
   ],
   "outputs": [
    {
     "output_type": "execute_result",
     "data": {
      "text/plain": [
       "<AxesSubplot:>"
      ]
     },
     "metadata": {},
     "execution_count": 19
    },
    {
     "output_type": "display_data",
     "data": {
      "text/plain": [
       "<Figure size 1152x360 with 2 Axes>"
      ],
      "image/png": "[encoded data removed]"
     },
     "metadata": {
      "needs_background": "light"
     }
    }
   ],
   "metadata": {}
  },
  {
   "cell_type": "markdown",
   "source": [
    "Count of the repondents who said yes in each group"
   ],
   "metadata": {}
  },
  {
   "cell_type": "code",
   "execution_count": 20,
   "source": [
    "responded.groupby(\"experiment\")[\"yes\"].sum()"
   ],
   "outputs": [
    {
     "output_type": "execute_result",
     "data": {
      "text/plain": [
       "experiment\n",
       "control    264\n",
       "exposed    308\n",
       "Name: yes, dtype: int64"
      ]
     },
     "metadata": {},
     "execution_count": 20
    }
   ],
   "metadata": {}
  },
  {
   "cell_type": "markdown",
   "source": [
    "Number of respondents in each experimental group"
   ],
   "metadata": {}
  },
  {
   "cell_type": "code",
   "execution_count": 21,
   "source": [
    "responded.groupby(\"experiment\")[\"experiment\"].count()"
   ],
   "outputs": [
    {
     "output_type": "execute_result",
     "data": {
      "text/plain": [
       "experiment\n",
       "control    586\n",
       "exposed    657\n",
       "Name: experiment, dtype: int64"
      ]
     },
     "metadata": {},
     "execution_count": 21
    }
   ],
   "metadata": {}
  },
  {
   "cell_type": "markdown",
   "source": [
    "Plot to show proportion of awarness in the control and exposed groups"
   ],
   "metadata": {}
  },
  {
   "cell_type": "code",
   "execution_count": 22,
   "source": [
    "\r\n",
    "fig, axes = plt.subplots(1, 2)\r\n",
    "fig.suptitle('Percentage of repondents that responded yes to being aware of the brand', fontsize=16)\r\n",
    "\r\n",
    "responded.loc[responded[\"experiment\"] ==\"control\"]['yes'].value_counts().plot( kind='pie', figsize=(5,5), fontsize=10, \r\n",
    "                                              labels = ['No', 'Yes'], autopct='%.2f', ax=axes[0])\r\n",
    "axes[0].set_title('% of Control', fontsize = 12)\r\n",
    "\r\n",
    "responded.loc[responded[\"experiment\"] ==\"exposed\"]['yes'].value_counts().plot( kind='pie', figsize=(5,5), fontsize=10, \r\n",
    "                                              labels = ['No', 'Yes'], autopct='%.2f', ax=axes[1])\r\n",
    "axes[1].set_title('% of Exposed', fontsize = 12)\r\n",
    "plt.show()\r\n"
   ],
   "outputs": [
    {
     "output_type": "display_data",
     "data": {
      "text/plain": [
       "<Figure size 360x360 with 2 Axes>"
      ],
      "image/png": "[encoded data removed]"
     },
     "metadata": {}
    }
   ],
   "metadata": {}
  },
  {
   "cell_type": "markdown",
   "source": [
    "# Classical Hypothesis Testing"
   ],
   "metadata": {}
  },
  {
   "cell_type": "code",
   "execution_count": 23,
   "source": [
    "users = pd.DataFrame(data = responded[[\"auction_id\", \"experiment\"]])\r\n",
    "users[\"converted\"] = responded.yes"
   ],
   "outputs": [],
   "metadata": {}
  },
  {
   "cell_type": "code",
   "execution_count": 24,
   "source": [
    "conversion_rates = users.groupby('experiment')['converted']\r\n",
    "\r\n",
    "std_p = lambda x: np.std(x, ddof=0)              # Std. deviation of the proportion\r\n",
    "se_p = lambda x: stats.sem(x, ddof=0)            # Std. error of the proportion (std / sqrt(n))\r\n",
    "\r\n",
    "conversion_rates = conversion_rates.agg([np.mean, std_p, se_p,\"sum\",\"count\"])\r\n",
    "conversion_rates.columns = ['conversion_rate', 'std_deviation', 'std_error',\"converted\",\"count\"]\r\n",
    "\r\n",
    "\r\n",
    "conversion_rates.style.format('{:.3f}')"
   ],
   "outputs": [
    {
     "output_type": "execute_result",
     "data": {
      "text/plain": [
       "<pandas.io.formats.style.Styler at 0x214e8b91880>"
      ],
      "text/html": [
       "<style  type=\"text/css\" >\n",
       "</style><table id=\"T_052e3_\" ><thead>    <tr>        <th class=\"blank level0\" ></th>        <th class=\"col_heading level0 col0\" >conversion_rate</th>        <th class=\"col_heading level0 col1\" >std_deviation</th>        <th class=\"col_heading level0 col2\" >std_error</th>        <th class=\"col_heading level0 col3\" >converted</th>        <th class=\"col_heading level0 col4\" >count</th>    </tr>    <tr>        <th class=\"index_name level0\" >experiment</th>        <th class=\"blank\" ></th>        <th class=\"blank\" ></th>        <th class=\"blank\" ></th>        <th class=\"blank\" ></th>        <th class=\"blank\" ></th>    </tr></thead><tbody>\n",
       "                <tr>\n",
       "                        <th id=\"T_052e3_level0_row0\" class=\"row_heading level0 row0\" >control</th>\n",
       "                        <td id=\"T_052e3_row0_col0\" class=\"data row0 col0\" >0.451</td>\n",
       "                        <td id=\"T_052e3_row0_col1\" class=\"data row0 col1\" >0.498</td>\n",
       "                        <td id=\"T_052e3_row0_col2\" class=\"data row0 col2\" >0.021</td>\n",
       "                        <td id=\"T_052e3_row0_col3\" class=\"data row0 col3\" >264.000</td>\n",
       "                        <td id=\"T_052e3_row0_col4\" class=\"data row0 col4\" >586.000</td>\n",
       "            </tr>\n",
       "            <tr>\n",
       "                        <th id=\"T_052e3_level0_row1\" class=\"row_heading level0 row1\" >exposed</th>\n",
       "                        <td id=\"T_052e3_row1_col0\" class=\"data row1 col0\" >0.469</td>\n",
       "                        <td id=\"T_052e3_row1_col1\" class=\"data row1 col1\" >0.499</td>\n",
       "                        <td id=\"T_052e3_row1_col2\" class=\"data row1 col2\" >0.019</td>\n",
       "                        <td id=\"T_052e3_row1_col3\" class=\"data row1 col3\" >308.000</td>\n",
       "                        <td id=\"T_052e3_row1_col4\" class=\"data row1 col4\" >657.000</td>\n",
       "            </tr>\n",
       "    </tbody></table>"
      ]
     },
     "metadata": {},
     "execution_count": 24
    }
   ],
   "metadata": {}
  },
  {
   "cell_type": "markdown",
   "source": [
    "Conversion rates comparison"
   ],
   "metadata": {}
  },
  {
   "cell_type": "code",
   "execution_count": 25,
   "source": [
    "plt.figure(figsize=(8,6))\r\n",
    "\r\n",
    "sns.barplot(x=users['experiment'], y=users['converted'], ci=False)\r\n",
    "\r\n",
    "plt.ylim(0, 0.48)\r\n",
    "plt.title('Conversion rate by group', pad=20)\r\n",
    "plt.xlabel('Group', labelpad=15)\r\n",
    "plt.ylabel('Converted (proportion)', labelpad=15)"
   ],
   "outputs": [
    {
     "output_type": "execute_result",
     "data": {
      "text/plain": [
       "Text(0, 0.5, 'Converted (proportion)')"
      ]
     },
     "metadata": {},
     "execution_count": 25
    },
    {
     "output_type": "display_data",
     "data": {
      "text/plain": [
       "<Figure size 576x432 with 1 Axes>"
      ],
      "image/png": "[encoded data removed]"
     },
     "metadata": {
      "needs_background": "light"
     }
    }
   ],
   "metadata": {}
  },
  {
   "cell_type": "markdown",
   "source": [
    "The minimum number of observations required to detect the effect"
   ],
   "metadata": {}
  },
  {
   "cell_type": "code",
   "execution_count": 26,
   "source": [
    "effect_size = sms.proportion_effectsize(0.45, 0.469)    # Calculating effect size based on our expected rates\r\n",
    "\r\n",
    "required_n = sms.NormalIndPower().solve_power(\r\n",
    "    effect_size, \r\n",
    "    power=0.8, \r\n",
    "    alpha=0.05, \r\n",
    "    ratio=1\r\n",
    "    )                                                  # Calculating sample size needed\r\n",
    "\r\n",
    "required_n = math.ceil(required_n)                          # Rounding up to next whole number                          \r\n",
    "\r\n",
    "print(\"Number of required Observations per group is \",required_n)"
   ],
   "outputs": [
    {
     "output_type": "stream",
     "name": "stdout",
     "text": [
      "Number of required Observations per group is  10799\n"
     ]
    }
   ],
   "metadata": {}
  },
  {
   "cell_type": "markdown",
   "source": [
    "<p style=\"font-size:20px\">The minimum number of observations for each the exposed and the control group is 10799, or we need a total of 21,598 total responses evenly distibuted between our control and exposed groups</p>"
   ],
   "metadata": {}
  },
  {
   "cell_type": "markdown",
   "source": [
    "Hypothesis testing code Adapted from [here](https://medium.com/@RenatoFillinich/ab-testing-with-python-e5964dd66143#:~:text=from%20statsmodels.stats.proportion%20import%20proportions_ztest%2C)"
   ],
   "metadata": {}
  },
  {
   "cell_type": "code",
   "execution_count": 27,
   "source": [
    "from statsmodels.stats.proportion import proportions_ztest, proportion_confint\r\n",
    "\r\n",
    "control_results = users[users['experiment'] == 'control']['converted']\r\n",
    "treatment_results = users[users['experiment'] == 'exposed']['converted']\r\n",
    "n_con = control_results.count()\r\n",
    "n_treat = treatment_results.count()\r\n",
    "successes = [control_results.sum(), treatment_results.sum()]\r\n",
    "nobs = [n_con, n_treat]\r\n",
    "\r\n",
    "z_stat, pval = proportions_ztest(successes, nobs=nobs)\r\n",
    "(lower_con, lower_treat), (upper_con, upper_treat) = proportion_confint(successes, nobs=nobs, alpha=0.05)\r\n",
    "\r\n",
    "print(f'z statistic: {z_stat:.2f}')\r\n",
    "print(f'p-value: {pval:.3f}')\r\n",
    "print(f'ci 95% for control group: [{lower_con:.3f}, {upper_con:.3f}]')\r\n",
    "print(f'ci 95% for treatment group: [{lower_treat:.3f}, {upper_treat:.3f}]')"
   ],
   "outputs": [
    {
     "output_type": "stream",
     "name": "stdout",
     "text": [
      "z statistic: -0.65\n",
      "p-value: 0.518\n",
      "ci 95% for control group: [0.410, 0.491]\n",
      "ci 95% for treatment group: [0.431, 0.507]\n"
     ]
    }
   ],
   "metadata": {}
  },
  {
   "cell_type": "markdown",
   "source": [
    "<p style=\"font-weight:700;font-size:30px\">As we can see the p value is above our significance level so we accept our null hypthesis that there is no significant lift. But our conclusion has low power because we have not met the minimum number of samples for the specific difference level in awareness and power as calculate in previous cells</p>"
   ],
   "metadata": {}
  },
  {
   "cell_type": "markdown",
   "source": [
    "Plot of the probability distributions"
   ],
   "metadata": {}
  },
  {
   "cell_type": "code",
   "execution_count": 28,
   "source": [
    "\r\n",
    "fig, ax = plt.subplots(figsize=(12,6))\r\n",
    "A_converted=conversion_rates.loc[\"control\"][\"converted\"]\r\n",
    "B_converted=conversion_rates.loc[\"exposed\"][\"converted\"]\r\n",
    "p_A=conversion_rates.loc[\"control\"][\"conversion_rate\"]\r\n",
    "p_B=conversion_rates.loc[\"exposed\"][\"conversion_rate\"]\r\n",
    "A_total=conversion_rates.loc[\"control\"][\"count\"]\r\n",
    "B_total=conversion_rates.loc[\"exposed\"][\"count\"]\r\n",
    "\r\n",
    "xA = np.linspace(A_converted-49, A_converted+50, 100)\r\n",
    "yA = stats.binom(A_total, p_A).pmf(xA)\r\n",
    "ax.bar(xA, yA, alpha=0.5,label=\"Exposed\")\r\n",
    "xB = np.linspace(B_converted-49, B_converted+50, 100)\r\n",
    "yB = stats.binom(B_total, p_B).pmf(xB)\r\n",
    "ax.bar(xB, yB, alpha=0.5,label=\"Control\")\r\n",
    "# ax.axvline(x=p_B * A_total, c='blue', alpha=0.75, linestyle='--'.label=\"\")\r\n",
    "plt.xlabel('converted')\r\n",
    "plt.ylabel('probability')\r\n",
    "\r\n",
    "plt.legend()\r\n"
   ],
   "outputs": [
    {
     "output_type": "execute_result",
     "data": {
      "text/plain": [
       "<matplotlib.legend.Legend at 0x214ea268190>"
      ]
     },
     "metadata": {},
     "execution_count": 28
    },
    {
     "output_type": "display_data",
     "data": {
      "text/plain": [
       "<Figure size 864x432 with 1 Axes>"
      ],
      "image/png": "[encoded data removed]"
     },
     "metadata": {
      "needs_background": "light"
     }
    }
   ],
   "metadata": {}
  },
  {
   "cell_type": "markdown",
   "source": [
    "sequential"
   ],
   "metadata": {}
  },
  {
   "cell_type": "markdown",
   "source": [
    "# Sequential Testing"
   ],
   "metadata": {}
  },
  {
   "cell_type": "code",
   "execution_count": 29,
   "source": [
    "def ConditionalSPRT(x,y,t1,alpha=0.05,beta=0.10,stop=None):\r\n",
    "    if t1<=1:\r\n",
    "        print('warning',\"Odd ratio should exceed 1.\")\r\n",
    "    if (alpha >0.5) | (beta >0.5):\r\n",
    "        print('warning',\"Unrealistic values of alpha or beta were passed.\"\r\n",
    "                    +\" You should have good reason to use large alpha & beta values\")\r\n",
    "    if stop!=None:\r\n",
    "        stop=math.floor(n0)\r\n",
    "\r\n",
    "    def comb(n, k):\r\n",
    "        return math.factorial(n) // math.factorial(k) // math.factorial(n - k)\r\n",
    "    \r\n",
    "    def lchoose(b, j):\r\n",
    "        a=[]\r\n",
    "        if (type(j) is list) | (isinstance(j,np.ndarray)==True):\r\n",
    "            if len(j)<2:\r\n",
    "                j=j[0]\r\n",
    "        if (type(j) is list) | (isinstance(j,np.ndarray)==True):\r\n",
    "            for k in j:\r\n",
    "                n=b\r\n",
    "                if (0 <= k) & (k<= n):\r\n",
    "                    a.append(math.log(comb(n,k)))\r\n",
    "                else:\r\n",
    "                    a.append(0)\r\n",
    "        else:\r\n",
    "            n=b\r\n",
    "            k=j\r\n",
    "            if (0 <= k) & (k<= n):\r\n",
    "                a.append(math.log(comb(n,k)))\r\n",
    "            else:\r\n",
    "                a.append(0)\r\n",
    "\r\n",
    "        return np.array(a)\r\n",
    "\r\n",
    "    def g(x,r,n,t1,t0=1):\r\n",
    "        \"\"\"\r\n",
    "        #\r\n",
    "        # Meeker's (1981) function `g`, the log probability ratio.\r\n",
    "        # \r\n",
    "        \"\"\"\r\n",
    "        return -math.log(h(x,r,n,t1))+math.log(h(x,r,n,t0))\r\n",
    "\r\n",
    "    def h(x,r,n,t=1):\r\n",
    "        \"\"\"\r\n",
    "        #\r\n",
    "        # Reciprocal of Meeker's (1981) function `h`: the conditional probability of \r\n",
    "        # `x` given `r` and `n`, when the odds ratio is `t`.\r\n",
    "        #\r\n",
    "        # `x` is his \"x1\", the number of positives in `n` control trials.\r\n",
    "        # `r` is the total number of positives.\r\n",
    "        # `n` is the number of (control, treatment) pairs.\r\n",
    "        # `t` is the odds ratio.\r\n",
    "        #\r\n",
    "        \"\"\"\r\n",
    "        return f(r,n,t,offset=ftermlog(x,r,n,t))\r\n",
    "\r\n",
    "    def f(r,n,t,offset=0):\r\n",
    "        \"\"\"#\r\n",
    "        # Meeker's (1981) function exp(F(r,n,t)), proportional to the probability of \r\n",
    "        #  `r` (=x1+x2) in `n` paired trials with an odds ratio of `t`.\r\n",
    "        #\r\n",
    "        # This function does *not* vectorize over its arguments.\r\n",
    "        #\"\"\"\r\n",
    "        upper=max(0,r-n)\r\n",
    "        lower=min(n,r)\r\n",
    "        rng=list(range(upper,lower+1))\r\n",
    "        return np.sum(fterm(rng,r,n,t,offset))\r\n",
    "\r\n",
    "    def fterm(j,r,n,t,offset=0):\r\n",
    "        ftlog=ftermlog(j,r,n,t,offset)\r\n",
    "        return np.array([math.exp(ex) for ex in ftlog])\r\n",
    "\r\n",
    "    def ftermlog(j,r,n,t,offset=0):\r\n",
    "        \"\"\"\r\n",
    "        #\r\n",
    "        # Up to an additive constant, the log probability that (x1, x1+x2) = (j, r) \r\n",
    "        # in `n` paired trials with odds ratio of `t`.\r\n",
    "        #\r\n",
    "        # `offset` is used to adjust the result to avoid under/overflow.\r\n",
    "        #\r\n",
    "        \"\"\"\r\n",
    "        xx=r-j\r\n",
    "        lch=lchoose(n,j)\r\n",
    "        lchdiff=lchoose(n,xx)\r\n",
    "        lg=np.array(j)*math.log(t)\r\n",
    "        lgsum=lch+lchdiff\r\n",
    "        lgsum2=lgsum+lg\r\n",
    "        lgdiff=lgsum2-offset\r\n",
    "\r\n",
    "        return lgdiff\r\n",
    "\r\n",
    "    def logf(r,n,t,offset=0):\r\n",
    "        \"\"\"\r\n",
    "        #\r\n",
    "        # A protected vesion of log(f), Meeker's function `F`.\r\n",
    "        #\r\n",
    "        \"\"\"\r\n",
    "        z=f(r,n,t,offset)\r\n",
    "        if z>0:\r\n",
    "            return math.log(z)\r\n",
    "        else:\r\n",
    "            return np.nan\r\n",
    "\r\n",
    "    def clowerUpper(r,n,t1c,t0=1,alpha=0.05,beta=0.10):\r\n",
    "        \"\"\"\r\n",
    "        #\r\n",
    "        # Meeker's (1981) functions c_L(r,n) and c_U(r,n), the  critical values for x1.\r\n",
    "        # 0 <= r <= 2n; t1 >= t0 > 0.\r\n",
    "        #\r\n",
    "        \"\"\"\r\n",
    "        offset=ftermlog(math.ceil(r/2),r,n,t1c)\r\n",
    "        z=logf(r,n,t1c,logf(r,n,t0,offset)+offset)\r\n",
    "        a=-math.log(alpha/(1-beta))\r\n",
    "        b=math.log(beta/(1-alpha))\r\n",
    "        lower=b\r\n",
    "        upper=1+a\r\n",
    "        return (np.array([lower,upper])+z)/math.log(t1c/t0)\r\n",
    "\r\n",
    "    l=math.log(beta/(1-alpha))\r\n",
    "    u=-math.log(alpha/(1-beta))\r\n",
    "    sample_size=min(len(x),len(y))\r\n",
    "    n=np.array(range(1,sample_size+1))\r\n",
    "\r\n",
    "    if stop!=None:\r\n",
    "        n=np.array([z for z in n if z<=stop])\r\n",
    "    x1=np.cumsum(x[n-1])\r\n",
    "    r=x1+np.cumsum(y[n-1])\r\n",
    "    stats=np.array(list(map(g,x1, r, n, [t1]*len(x1)))) #recurcively calls g\r\n",
    "        #\r\n",
    "        # Perform the test by finding the first index, if any, at which `stats`\r\n",
    "        # falls outside the open interval (l, u).\r\n",
    "        #\r\n",
    "    clu=list(map(clowerUpper,r,n,[t1]*len(r),[1]*len(r),[alpha]*len(r), [beta]*len(r)))\r\n",
    "    limits=[]\r\n",
    "    for v in clu:\r\n",
    "        inArray=[]\r\n",
    "        for vin in v:\r\n",
    "            inArray.append(math.floor(vin))\r\n",
    "        limits.append(np.array(inArray))\r\n",
    "    limits=np.array(limits)\r\n",
    "\r\n",
    "    k=np.where((stats>=u) | (stats<=l))\r\n",
    "    cvalues=stats[k]\r\n",
    "    if cvalues.shape[0]<1:\r\n",
    "        k= np.nan\r\n",
    "        outcome='Unable to conclude.Needs more sample.'\r\n",
    "    else:\r\n",
    "        k=np.min(k)\r\n",
    "        if stats[k]>=u:\r\n",
    "            outcome=f'Exposed group produced a statistically significant increase.'\r\n",
    "        else:\r\n",
    "            outcome='Their is no statistically significant difference between two test groups'\r\n",
    "    if (stop!=None) & (k==np.nan):\r\n",
    "        #\r\n",
    "        # Truncate at trial stop, using Meeker's H0-conservative formula (2.2).\r\n",
    "        # Leave k=NA to indicate the decision was made due to truncation.\r\n",
    "        #\r\n",
    "        c1=clowerUpper(r,stop,t1,alpha,beta)\r\n",
    "        c1=math.floor(np.mean(c1)-0.5)\r\n",
    "        if x1[n0]<=c1:\r\n",
    "            truncate_decision='h0'\r\n",
    "            outcome='Maximum Limit Decision. The aproximate decision point shows their is no statistically significant difference between two test groups'\r\n",
    "        else:\r\n",
    "            truncate_decision='h1'\r\n",
    "            outcome=f'Maximum Limit Decision. The aproximate decision point shows exposed group produced a statistically significant increase.'\r\n",
    "        truncated=stop\r\n",
    "    else:\r\n",
    "        truncate_decision='Non'\r\n",
    "        truncated=np.nan\r\n",
    "    return (outcome,n, k,l,u,truncated,truncate_decision,x1,r,stats,limits)"
   ],
   "outputs": [],
   "metadata": {}
  },
  {
   "cell_type": "code",
   "execution_count": 30,
   "source": [
    "test=responded.copy()\r\n",
    "def transform_data(df):\r\n",
    "    df[\"datehour\"]=pd.to_datetime(df.date) + pd.to_timedelta(df.hour, unit='h')\r\n",
    "\r\n",
    "    df.datehour.map(lambda x:  pd.Timestamp(x,tz=None).strftime('%Y-%m-%d:%H'))\r\n",
    "\r\n",
    "    expo=df.loc[df[\"experiment\"] == \"exposed\"]\r\n",
    "    contro=df.loc[df[\"experiment\"] ==\"control\"]\r\n",
    "\r\n",
    "    engagement_sucess_exposed=expo.sort_values(\"datehour\").groupby(\"datehour\",as_index=False)[\"yes\"].agg([\"count\",\"sum\"])\r\n",
    "    engagement_sucess_control=contro.sort_values(\"datehour\").groupby(\"datehour\",as_index=False)[\"yes\"].agg([\"count\",\"sum\"])\r\n",
    "    def rand_bin_array(x):\r\n",
    "        arr = np.zeros(x[0])\r\n",
    "        arr[:x[1]]  = 1\r\n",
    "        np.random.shuffle(arr)\r\n",
    "        return arr\r\n",
    "\r\n",
    "    e=engagement_sucess_exposed.apply(rand_bin_array, axis=1).to_numpy()\r\n",
    "    \r\n",
    "    c=engagement_sucess_control.apply(rand_bin_array, axis=1).to_numpy()\r\n",
    "\r\n",
    "    return e,c\r\n"
   ],
   "outputs": [],
   "metadata": {}
  },
  {
   "cell_type": "code",
   "execution_count": 31,
   "source": [
    "\r\n",
    "def transform_data_2(df):\r\n",
    "    df[\"datehour\"]=pd.to_datetime(df.date) + pd.to_timedelta(df.hour, unit='h')\r\n",
    "\r\n",
    "    df.datehour.map(lambda x:  pd.Timestamp(x,tz=None).strftime('%Y-%m-%d:%H'))\r\n",
    "\r\n",
    "    expo=df.loc[df[\"experiment\"] == \"exposed\"]\r\n",
    "    contro=df.loc[df[\"experiment\"] ==\"control\"]\r\n",
    "    expo=expo.sort_values(\"datehour\")\r\n",
    "    contro=contro.sort_values(\"datehour\")\r\n",
    "\r\n",
    "    e =expo[\"yes\"].to_numpy()\r\n",
    "    c =contro[\"yes\"].to_numpy()\r\n",
    "    return e,c"
   ],
   "outputs": [],
   "metadata": {}
  },
  {
   "cell_type": "code",
   "execution_count": 32,
   "source": [
    "test=responded.copy()\r\n",
    "x,y=transform_data_2(test)\r\n",
    "outcome,n, k,l,u,truncated,truncate_decision,x1,r,stats,limits=ConditionalSPRT(x=x,y=y,t1=1.07)\r\n",
    "\r\n",
    "# print(k)\r\n",
    "\r\n"
   ],
   "outputs": [],
   "metadata": {}
  },
  {
   "cell_type": "markdown",
   "source": [
    "The outcome of our sequential test"
   ],
   "metadata": {}
  },
  {
   "cell_type": "code",
   "execution_count": null,
   "source": [
    "\r\n",
    "print(outcome)"
   ],
   "outputs": [
    {
     "output_type": "stream",
     "name": "stdout",
     "text": [
      "Unable to conclude.Needs more sample.\n"
     ]
    }
   ],
   "metadata": {}
  },
  {
   "cell_type": "markdown",
   "source": [
    "Plot of our sequential test"
   ],
   "metadata": {}
  },
  {
   "cell_type": "code",
   "execution_count": null,
   "source": [
    "plt.plot(n, x1, label = \"Cumulative Value\")\r\n",
    "plt.plot(n, limits[:,0], label = \"Lower Bound\", linestyle='dashed')\r\n",
    "plt.plot(n, limits[:,1], label = \"Upper Bound\", linestyle='dashed')\r\n",
    "plt.legend()\r\n"
   ],
   "outputs": [
    {
     "output_type": "execute_result",
     "data": {
      "text/plain": [
       "<matplotlib.legend.Legend at 0x167924c4580>"
      ]
     },
     "metadata": {},
     "execution_count": 35
    },
    {
     "output_type": "display_data",
     "data": {
      "text/plain": [
       "<Figure size 432x288 with 1 Axes>"
      ],
      "image/png": "[encoded data removed]"
     },
     "metadata": {
      "needs_background": "light"
     }
    }
   ],
   "metadata": {}
  },
  {
   "cell_type": "markdown",
   "source": [],
   "metadata": {}
  },
  {
   "cell_type": "markdown",
   "source": [
    "<p style=\"font-weight:600;font-size:20px\">As we can see the borders have not been crossed so we need more observations to say either way. In other words no conclusive effect can be found yet</p>"
   ],
   "metadata": {}
  },
  {
   "cell_type": "code",
   "execution_count": null,
   "source": [
    "# xaxis=np.linspace(0, n, num=n)\r\n",
    "# plt.plot(n, stats, label = \"Cumulative Value\")\r\n",
    "# plt.plot(n, limits[:,0], label = \"Lower Bound\", linestyle='dashed')\r\n",
    "# plt.plot(n, limits[:,1], label = \"Upper Bound\", linestyle='dashed')\r\n",
    "# plt.legend()"
   ],
   "outputs": [
    {
     "output_type": "execute_result",
     "data": {
      "text/plain": [
       "<matplotlib.legend.Legend at 0x1679228a820>"
      ]
     },
     "metadata": {},
     "execution_count": 36
    },
    {
     "output_type": "display_data",
     "data": {
      "text/plain": [
       "<Figure size 432x288 with 1 Axes>"
      ],
      "image/png": "[encoded data removed]"
     },
     "metadata": {
      "needs_background": "light"
     }
    }
   ],
   "metadata": {}
  },
  {
   "cell_type": "code",
   "execution_count": null,
   "source": [
    "print(stats[:50])\r\n"
   ],
   "outputs": [
    {
     "output_type": "stream",
     "name": "stdout",
     "text": [
      "[ 0.          0.         -0.00091547  0.03260323  0.03249427  0.06599415\n",
      "  0.06554597  0.03142616  0.03123769  0.03108891  0.06460704  0.09812953\n",
      "  0.0639967   0.0975251   0.09736435  0.13088753  0.09675449  0.09659994\n",
      "  0.09646211  0.12997699  0.09583598  0.129356    0.16287809  0.16243872\n",
      "  0.19596965  0.19557123  0.16144915  0.16125052  0.19478471  0.1944029\n",
      "  0.16028248  0.15992811  0.12581025  0.12547915  0.0913628   0.12490516\n",
      "  0.09078891  0.12433136  0.15787385  0.19141638  0.19110842  0.15699288\n",
      "  0.15669993  0.12258455  0.12230493  0.12203759  0.12173253  0.15527567\n",
      "  0.12116016  0.12089132]\n"
     ]
    }
   ],
   "metadata": {}
  },
  {
   "cell_type": "markdown",
   "source": [
    "Data Manipulation\r\n"
   ],
   "metadata": {}
  },
  {
   "cell_type": "code",
   "execution_count": null,
   "source": [
    "# data_without_browser=data.copy()\r\n",
    "# data_without_browser.drop(\"browser\",axis=1,inplace=True)\r\n",
    "# data_without_browser.to_csv(\"data/AdSmartABdata.csv\")"
   ],
   "outputs": [],
   "metadata": {}
  },
  {
   "cell_type": "code",
   "execution_count": null,
   "source": [
    "# data_without_os=data.copy()\r\n",
    "# data_without_os.drop(\"platform_os\",axis=1,inplace=True)\r\n",
    "# data_without_os.to_csv(\"data/AdSmartABdata.csv\")"
   ],
   "outputs": [],
   "metadata": {}
  }
 ],
 "metadata": {
  "orig_nbformat": 4,
  "language_info": {
   "name": "python",
   "version": "3.8.8",
   "mimetype": "text/x-python",
   "codemirror_mode": {
    "name": "ipython",
    "version": 3
   },
   "pygments_lexer": "ipython3",
   "nbconvert_exporter": "python",
   "file_extension": ".py"
  },
  "kernelspec": {
   "name": "python3",
   "display_name": "Python 3.8.8 64-bit ('base': conda)"
  },
  "interpreter": {
   "hash": "3ebe1e15dab481e38dbc50cacd21ed8ec6b22a54b0f3cb3b993bb569cf9c8bed"
  }
 },
 "nbformat": 4,
 "nbformat_minor": 2
}